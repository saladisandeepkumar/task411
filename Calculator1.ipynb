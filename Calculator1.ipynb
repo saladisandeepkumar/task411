{
 "cells": [
  {
   "cell_type": "code",
   "execution_count": 1,
   "id": "9b495fdb",
   "metadata": {},
   "outputs": [],
   "source": [
    "import tkinter as tk\n",
    "\n",
    "# Create the main window\n",
    "root = tk.Tk()\n",
    "root.title(\"Calculator\")\n",
    "\n",
    "# Entry widget for display\n",
    "display = tk.Entry(root, width=30, borderwidth=5, relief='ridge')\n",
    "display.grid(row=0, column=0, columnspan=4, padx=10, pady=10)\n",
    "\n",
    "# Button click function\n",
    "def button_click(value):\n",
    "    current = display.get()\n",
    "    display.delete(0, tk.END)\n",
    "    display.insert(0, current + str(value))\n",
    "\n",
    "# Function to clear the display\n",
    "def button_clear():\n",
    "    display.delete(0, tk.END)\n",
    "\n",
    "# Function to evaluate the expression\n",
    "def button_equal():\n",
    "    try:\n",
    "        result = str(eval(display.get()))  # Evaluate the expression\n",
    "        display.delete(0, tk.END)\n",
    "        display.insert(0, result)\n",
    "    except:\n",
    "        display.delete(0, tk.END)\n",
    "        display.insert(0, \"Error\")\n",
    "\n",
    "# Button creation and placement\n",
    "buttons = [\n",
    "    ('7', 1, 0), ('8', 1, 1), ('9', 1, 2), ('/', 1, 3),\n",
    "    ('4', 2, 0), ('5', 2, 1), ('6', 2, 2), ('*', 2, 3),\n",
    "    ('1', 3, 0), ('2', 3, 1), ('3', 3, 2), ('-', 3, 3),\n",
    "    ('0', 4, 0), ('.', 4, 1), ('+', 4, 2), ('=', 4, 3)\n",
    "]\n",
    "\n",
    "# Add buttons to the calculator\n",
    "for (text, row, col) in buttons:\n",
    "    if text == '=':\n",
    "        tk.Button(root, text=text, padx=20, pady=20, command=button_equal).grid(row=row, column=col)\n",
    "    else:\n",
    "        tk.Button(root, text=text, padx=20, pady=20, command=lambda t=text: button_click(t)).grid(row=row, column=col)\n",
    "\n",
    "# Clear button\n",
    "tk.Button(root, text=\"Clear\", padx=90, pady=20, command=button_clear).grid(row=5, column=0, columnspan=4)\n",
    "\n",
    "# Start the main event loop\n",
    "root.mainloop()\n"
   ]
  },
  {
   "cell_type": "code",
   "execution_count": null,
   "id": "f94518bc",
   "metadata": {},
   "outputs": [],
   "source": []
  }
 ],
 "metadata": {
  "kernelspec": {
   "display_name": "Python 3 (ipykernel)",
   "language": "python",
   "name": "python3"
  },
  "language_info": {
   "codemirror_mode": {
    "name": "ipython",
    "version": 3
   },
   "file_extension": ".py",
   "mimetype": "text/x-python",
   "name": "python",
   "nbconvert_exporter": "python",
   "pygments_lexer": "ipython3",
   "version": "3.9.13"
  }
 },
 "nbformat": 4,
 "nbformat_minor": 5
}
